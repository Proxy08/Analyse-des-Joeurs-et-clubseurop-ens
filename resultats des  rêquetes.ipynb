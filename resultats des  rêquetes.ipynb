{
 "cells": [
  {
   "cell_type": "code",
   "execution_count": 46,
   "metadata": {},
   "outputs": [
    {
     "data": {
      "text/html": [
       "<div>\n",
       "<style scoped>\n",
       "    .dataframe tbody tr th:only-of-type {\n",
       "        vertical-align: middle;\n",
       "    }\n",
       "\n",
       "    .dataframe tbody tr th {\n",
       "        vertical-align: top;\n",
       "    }\n",
       "\n",
       "    .dataframe thead th {\n",
       "        text-align: right;\n",
       "    }\n",
       "</style>\n",
       "<table border=\"1\" class=\"dataframe\">\n",
       "  <thead>\n",
       "    <tr style=\"text-align: right;\">\n",
       "      <th></th>\n",
       "      <th>Team_to</th>\n",
       "      <th>Season</th>\n",
       "      <th>country_name</th>\n",
       "      <th>sum(transfert.transfert_fee)</th>\n",
       "    </tr>\n",
       "  </thead>\n",
       "  <tbody>\n",
       "    <tr>\n",
       "      <td>0</td>\n",
       "      <td>Arsenal</td>\n",
       "      <td>2000-2001</td>\n",
       "      <td>England</td>\n",
       "      <td>42600000</td>\n",
       "    </tr>\n",
       "    <tr>\n",
       "      <td>1</td>\n",
       "      <td>Liverpool</td>\n",
       "      <td>2000-2001</td>\n",
       "      <td>England</td>\n",
       "      <td>9000000</td>\n",
       "    </tr>\n",
       "    <tr>\n",
       "      <td>2</td>\n",
       "      <td>Chelsea</td>\n",
       "      <td>2000-2001</td>\n",
       "      <td>England</td>\n",
       "      <td>9400000</td>\n",
       "    </tr>\n",
       "    <tr>\n",
       "      <td>3</td>\n",
       "      <td>Sunderland</td>\n",
       "      <td>2000-2001</td>\n",
       "      <td>England</td>\n",
       "      <td>4700000</td>\n",
       "    </tr>\n",
       "    <tr>\n",
       "      <td>4</td>\n",
       "      <td>Manchester City</td>\n",
       "      <td>2000-2001</td>\n",
       "      <td>England</td>\n",
       "      <td>4500000</td>\n",
       "    </tr>\n",
       "  </tbody>\n",
       "</table>\n",
       "</div>"
      ],
      "text/plain": [
       "           Team_to     Season country_name  sum(transfert.transfert_fee)\n",
       "0          Arsenal  2000-2001      England                      42600000\n",
       "1        Liverpool  2000-2001      England                       9000000\n",
       "2          Chelsea  2000-2001      England                       9400000\n",
       "3       Sunderland  2000-2001      England                       4700000\n",
       "4  Manchester City  2000-2001      England                       4500000"
      ]
     },
     "execution_count": 46,
     "metadata": {},
     "output_type": "execute_result"
    }
   ],
   "source": [
    "import pandas as pd\n",
    "import re\n",
    "\n",
    "df = pd.read_csv('query2.csv',',')\n",
    "df.head()"
   ]
  },
  {
   "cell_type": "code",
   "execution_count": 48,
   "metadata": {},
   "outputs": [
    {
     "name": "stdout",
     "output_type": "stream",
     "text": [
      "(1141, 4)\n"
     ]
    }
   ],
   "source": [
    "\n",
    "df = df[['Team_to','Season','country_name','sum(transfert.transfert_fee)']]\n",
    "df\n",
    "print(df.shape)\n",
    "table =pd.pivot_table(df, values='sum(transfert.transfert_fee)', \n",
    "                index=['Team_to','country_name'], \n",
    "                    columns='Season')\n",
    "table.to_csv('transf.csv', encoding='utf-8',)\n",
    "\n",
    "#df = pd.DataFrame(data) \n",
    "  \n",
    "#df = pd.DataFrame(df_grouped) \n",
    "  \n",
    "# pivoting the dataframe \n",
    "#df =df_grouped.pivot(index ='Season', columns ='name') \n",
    "  \n",
    "#df "
   ]
  },
  {
   "cell_type": "code",
   "execution_count": null,
   "metadata": {},
   "outputs": [],
   "source": []
  }
 ],
 "metadata": {
  "kernelspec": {
   "display_name": "Python 3",
   "language": "python",
   "name": "python3"
  },
  "language_info": {
   "codemirror_mode": {
    "name": "ipython",
    "version": 3
   },
   "file_extension": ".py",
   "mimetype": "text/x-python",
   "name": "python",
   "nbconvert_exporter": "python",
   "pygments_lexer": "ipython3",
   "version": "3.7.4"
  }
 },
 "nbformat": 4,
 "nbformat_minor": 2
}
